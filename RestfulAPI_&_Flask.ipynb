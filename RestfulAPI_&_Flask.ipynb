{
  "nbformat": 4,
  "nbformat_minor": 0,
  "metadata": {
    "colab": {
      "provenance": []
    },
    "kernelspec": {
      "name": "python3",
      "display_name": "Python 3"
    },
    "language_info": {
      "name": "python"
    }
  },
  "cells": [
    {
      "cell_type": "markdown",
      "source": [
        "**THEORETICAL**"
      ],
      "metadata": {
        "id": "kxYfhNi1tprh"
      }
    },
    {
      "cell_type": "markdown",
      "source": [
        "1. What is a RESTful API?\n",
        "\n",
        "A RESTful API is an application programming interface that follows REST principles, enabling stateless communication between client and server using standard HTTP methods.\n",
        "\n",
        "2. Explain the concept of API specification.\n",
        "\n",
        "An API specification outlines the structure, behavior, and rules of an API, serving as a contract between API providers and consumers. It defines endpoints, methods, request/response formats, and authentication.\n",
        "\n",
        "3. What is Flask, and why is it popular for building APIs?\n",
        "\n",
        "Flask is a lightweight web framework for Python. It is popular for building APIs due to its simplicity, flexibility, minimalism, and a large ecosystem of extensions.\n",
        "\n",
        "4. What is routing in Flask?\n",
        "\n",
        "Routing in Flask is the process of defining how URLs correspond to specific functions in the application that handle the requests and return responses.\n",
        "\n",
        "5. How do you create a simple Flask application?\n",
        "\n",
        "Creating a simple Flask app involves initializing a Flask instance and defining route functions to handle HTTP requests.\n",
        "\n",
        "6. What are HTTP methods used in RESTful APIs?\n",
        "\n",
        "HTTP methods define actions to be performed on resources. Common methods include GET, POST, PUT, PATCH, and DELETE.\n",
        "\n",
        "7. What is the purpose of the @app.route() decorator in Flask?\n",
        "\n",
        "The @app.route() decorator binds a function to a specific URL, allowing Flask to route incoming requests to the appropriate handler.\n",
        "\n",
        "8. What is the difference between GET and POST HTTP methods?\n",
        "\n",
        "GET is used to retrieve data without side effects, while POST is used to submit data to be processed, typically causing a change in server state.\n",
        "\n",
        "9. How do you handle errors in Flask APIs?\n",
        "\n",
        "Errors in Flask APIs are handled using error handlers, which catch exceptions and return appropriate HTTP responses and messages.\n",
        "\n",
        "10. How do you connect Flask to a SQL database?\n",
        "\n",
        "Flask connects to a SQL database using configuration settings and a database toolkit or ORM like SQLAlchemy.\n",
        "\n",
        "11. What is the role of Flask-SQLAlchemy?\n",
        "\n",
        "Flask-SQLAlchemy integrates SQLAlchemy with Flask, providing a higher-level API for managing database models and queries using Python classes.\n",
        "\n",
        "12. What are Flask blueprints, and how are they useful?\n",
        "\n",
        "Flask blueprints are a modular way to structure applications. They allow grouping related views and functionality, improving maintainability and scalability.\n",
        "\n",
        "13. What is the purpose of Flask's request object?\n",
        "\n",
        "The request object provides access to HTTP request data, such as headers, form fields, query parameters, and JSON payloads.\n",
        "\n",
        "14. How do you create a RESTful API endpoint using Flask?\n",
        "\n",
        "Creating a RESTful endpoint involves defining a route, specifying the HTTP method, and implementing logic to interact with resources.\n",
        "\n",
        "15. What is the purpose of Flask's jsonify() function?\n",
        "\n",
        "The jsonify() function formats data as a JSON response, ensuring correct content-type headers and encoding.\n",
        "\n",
        "16. Explain Flask’s url_for() function.\n",
        "\n",
        "url_for() generates URLs for defined routes using the route's function name, making URL management more dynamic and maintainable.\n",
        "\n",
        "17. How does Flask handle static files (CSS, JavaScript, etc.)?\n",
        "\n",
        "Flask automatically serves static files from a designated static folder, accessible via a specific URL path.\n",
        "\n",
        "18. What is an API specification, and how does it help in building a Flask API?\n",
        "\n",
        "An API specification documents the API's structure and rules, guiding both the development and consumption of the API by ensuring consistency and clarity.\n",
        "\n",
        "19. What are HTTP status codes, and why are they important in a Flask API?\n",
        "\n",
        "HTTP status codes indicate the outcome of a request. They help clients understand whether operations succeeded, failed, or need attention (e.g., 200, 404, 500).\n",
        "\n",
        "20. How do you handle POST requests in Flask?\n",
        "\n",
        "Handling POST requests involves accepting and processing data sent in the request body, typically from a form or JSON payload.\n",
        "\n",
        "21. How would you secure a Flask API?\n",
        "\n",
        "Securing a Flask API involves implementing authentication, authorization, data validation, rate limiting, and HTTPS to protect resources and data.\n",
        "\n",
        "22. What is the significance of the Flask-RESTful extension?\n",
        "\n",
        "Flask-RESTful simplifies API development by providing abstractions for request parsing, resource routing, and standardizing responses.\n",
        "\n",
        "23. What is the role of Flask’s session object?\n",
        "\n",
        "The session object in Flask stores user-specific data across requests, enabling functionality like user login persistence using secure cookies."
      ],
      "metadata": {
        "id": "NKce8U24t03r"
      }
    },
    {
      "cell_type": "markdown",
      "source": [
        "**PRACTICAL**"
      ],
      "metadata": {
        "id": "GqfgAGXNvFea"
      }
    },
    {
      "cell_type": "code",
      "source": [
        "# Q1 - How do you create a basic Flask application?\n",
        "\n",
        "from flask import Flask\n",
        "\n",
        "app = Flask(__name__)\n",
        "\n",
        "@app.route('/')\n",
        "def home():\n",
        "    return \"Hello, Flask!\"\n",
        "\n",
        "if __name__ == '__main__':\n",
        "    app.run(debug=True)\n"
      ],
      "metadata": {
        "id": "Uhm8NsR-uwot"
      },
      "execution_count": null,
      "outputs": []
    },
    {
      "cell_type": "code",
      "source": [
        "# Q2 - How do you serve static files like images or CSS in Flask?\n",
        "\n",
        "from flask import Flask\n",
        "\n",
        "app = Flask(__name__)\n",
        "\n",
        "# Place static files in a folder named 'static'\n",
        "@app.route('/')\n",
        "def index():\n",
        "    return '''\n",
        "    <html>\n",
        "        <head><link rel=\"stylesheet\" href=\"/static/style.css\"></head>\n",
        "        <body><img src=\"/static/image.png\"></body>\n",
        "    </html>\n",
        "    '''\n",
        "\n",
        "if __name__ == '__main__':\n",
        "    app.run(debug=True)\n"
      ],
      "metadata": {
        "id": "IbHzkrJtwflh"
      },
      "execution_count": null,
      "outputs": []
    },
    {
      "cell_type": "code",
      "source": [
        "# Q3 - How do you define different routes with different HTTP methods in Flask?\n",
        "\n",
        "from flask import Flask, request\n",
        "\n",
        "app = Flask(__name__)\n",
        "\n",
        "@app.route('/example', methods=['GET', 'POST'])\n",
        "def example():\n",
        "    if request.method == 'POST':\n",
        "        return 'You sent a POST request!'\n",
        "    return 'You sent a GET request!'\n",
        "\n",
        "if __name__ == '__main__':\n",
        "    app.run(debug=True)\n"
      ],
      "metadata": {
        "id": "Sd29po2AuwsX"
      },
      "execution_count": null,
      "outputs": []
    },
    {
      "cell_type": "code",
      "source": [
        "# Q4 - How do you render HTML templates in Flask?\n",
        "\n",
        "from flask import Flask, render_template\n",
        "\n",
        "app = Flask(__name__)\n",
        "\n",
        "@app.route('/')\n",
        "def home():\n",
        "    return render_template('index.html')  # Requires templates/index.html\n",
        "\n",
        "if __name__ == '__main__':\n",
        "    app.run(debug=True)\n"
      ],
      "metadata": {
        "id": "eQYmSiyyuwvq"
      },
      "execution_count": null,
      "outputs": []
    },
    {
      "cell_type": "code",
      "source": [
        "# Q5 - How can you generate URLs for routes in Flask using url_for?\n",
        "\n",
        "from flask import Flask, url_for\n",
        "\n",
        "app = Flask(__name__)\n",
        "\n",
        "@app.route('/')\n",
        "def index():\n",
        "    return f'URL for about page: {url_for(\"about\")}'\n",
        "\n",
        "@app.route('/about')\n",
        "def about():\n",
        "    return 'This is the about page.'\n",
        "\n",
        "if __name__ == '__main__':\n",
        "    app.run(debug=True)\n"
      ],
      "metadata": {
        "id": "4rCevR0CuwzA"
      },
      "execution_count": null,
      "outputs": []
    },
    {
      "cell_type": "code",
      "source": [
        "# Q6 - How do you handle forms in Flask?\n",
        "\n",
        "from flask import Flask, request, render_template_string\n",
        "\n",
        "app = Flask(__name__)\n",
        "\n",
        "@app.route('/', methods=['GET', 'POST'])\n",
        "def form():\n",
        "    if request.method == 'POST':\n",
        "        name = request.form['name']\n",
        "        return f'Hello, {name}!'\n",
        "    return '''\n",
        "        <form method=\"POST\">\n",
        "            Name: <input name=\"name\">\n",
        "            <input type=\"submit\">\n",
        "        </form>\n",
        "    '''\n",
        "\n",
        "if __name__ == '__main__':\n",
        "    app.run(debug=True)\n"
      ],
      "metadata": {
        "id": "Hd_Ezzy7uw54"
      },
      "execution_count": null,
      "outputs": []
    },
    {
      "cell_type": "code",
      "source": [
        "# Q7 - How can you validate form data in Flask?\n",
        "\n",
        "from flask import Flask, request\n",
        "\n",
        "app = Flask(__name__)\n",
        "\n",
        "@app.route('/', methods=['POST', 'GET'])\n",
        "def validate():\n",
        "    if request.method == 'POST':\n",
        "        email = request.form['email']\n",
        "        if '@' in email:\n",
        "            return 'Valid email!'\n",
        "        else:\n",
        "            return 'Invalid email!'\n",
        "    return '''\n",
        "        <form method=\"POST\">\n",
        "            Email: <input name=\"email\">\n",
        "            <input type=\"submit\">\n",
        "        </form>\n",
        "    '''\n",
        "\n",
        "if __name__ == '__main__':\n",
        "    app.run(debug=True)\n"
      ],
      "metadata": {
        "id": "P2OsokU9uw88"
      },
      "execution_count": null,
      "outputs": []
    },
    {
      "cell_type": "code",
      "source": [
        "# Q8 - How do you manage sessions in Flask?\n",
        "\n",
        "from flask import Flask, session, redirect, url_for, request\n",
        "\n",
        "app = Flask(__name__)\n",
        "app.secret_key = 'secret'\n",
        "\n",
        "@app.route('/', methods=['GET', 'POST'])\n",
        "def login():\n",
        "    if request.method == 'POST':\n",
        "        session['user'] = request.form['username']\n",
        "        return redirect(url_for('profile'))\n",
        "    return '''\n",
        "        <form method=\"POST\">\n",
        "            Username: <input name=\"username\">\n",
        "            <input type=\"submit\">\n",
        "        </form>\n",
        "    '''\n",
        "\n",
        "@app.route('/profile')\n",
        "def profile():\n",
        "    if 'user' in session:\n",
        "        return f'Welcome, {session[\"user\"]}!'\n",
        "    return 'Not logged in.'\n",
        "\n",
        "if __name__ == '__main__':\n",
        "    app.run(debug=True)\n"
      ],
      "metadata": {
        "id": "D6KVqAgkuw_1"
      },
      "execution_count": null,
      "outputs": []
    },
    {
      "cell_type": "code",
      "source": [
        "# Q9 - How do you redirect to a different route in Flask?\n",
        "\n",
        "from flask import Flask, redirect, url_for\n",
        "\n",
        "app = Flask(__name__)\n",
        "\n",
        "@app.route('/')\n",
        "def home():\n",
        "    return redirect(url_for('target'))\n",
        "\n",
        "@app.route('/target')\n",
        "def target():\n",
        "    return 'You were redirected here.'\n",
        "\n",
        "if __name__ == '__main__':\n",
        "    app.run(debug=True)\n"
      ],
      "metadata": {
        "id": "dGAw3oWtuxCx"
      },
      "execution_count": null,
      "outputs": []
    },
    {
      "cell_type": "code",
      "source": [
        "# Q10 - How do you handle errors in Flask (e.g., 404)?\n",
        "\n",
        "from flask import Flask\n",
        "\n",
        "app = Flask(__name__)\n",
        "\n",
        "@app.errorhandler(404)\n",
        "def page_not_found(e):\n",
        "    return 'Custom 404 Error Page', 404\n",
        "\n",
        "if __name__ == '__main__':\n",
        "    app.run(debug=True)\n"
      ],
      "metadata": {
        "id": "IKEjLknwuxF_"
      },
      "execution_count": null,
      "outputs": []
    },
    {
      "cell_type": "code",
      "source": [
        "# Q11 - How do you structure a Flask app using Blueprints?\n",
        "\n",
        "# main.py\n",
        "from flask import Flask\n",
        "from routes import main\n",
        "\n",
        "app = Flask(__name__)\n",
        "app.register_blueprint(main)\n",
        "\n",
        "if __name__ == '__main__':\n",
        "    app.run(debug=True)\n",
        "\n",
        "# routes.py\n",
        "from flask import Blueprint\n",
        "\n",
        "main = Blueprint('main', __name__)\n",
        "\n",
        "@main.route('/')\n",
        "def home():\n",
        "    return 'This is from a blueprint!'\n"
      ],
      "metadata": {
        "id": "-L86M14fuxI6"
      },
      "execution_count": null,
      "outputs": []
    },
    {
      "cell_type": "code",
      "source": [
        "# Q12 - How do you define a custom Jinja filter in Flask?\n",
        "\n",
        "from flask import Flask, render_template_string\n",
        "\n",
        "app = Flask(__name__)\n",
        "\n",
        "@app.template_filter('reverse')\n",
        "def reverse_filter(s):\n",
        "    return s[::-1]\n",
        "\n",
        "@app.route('/')\n",
        "def home():\n",
        "    return render_template_string('{{ \"hello\" | reverse }}')\n",
        "\n",
        "if __name__ == '__main__':\n",
        "    app.run(debug=True)\n"
      ],
      "metadata": {
        "id": "ktbxIAw0uxLo"
      },
      "execution_count": null,
      "outputs": []
    },
    {
      "cell_type": "code",
      "source": [
        "# Q13 - How can you redirect with query parameters in Flask?\n",
        "\n",
        "from flask import Flask, redirect, url_for, request\n",
        "\n",
        "app = Flask(__name__)\n",
        "\n",
        "@app.route('/')\n",
        "def index():\n",
        "    return redirect(url_for('greet', name='John'))\n",
        "\n",
        "@app.route('/greet')\n",
        "def greet():\n",
        "    name = request.args.get('name', 'Guest')\n",
        "    return f'Hello, {name}!'\n",
        "\n",
        "if __name__ == '__main__':\n",
        "    app.run(debug=True)\n"
      ],
      "metadata": {
        "id": "iElTQAZYuxO0"
      },
      "execution_count": null,
      "outputs": []
    },
    {
      "cell_type": "code",
      "source": [
        "# Q14 - How do you return JSON responses in Flask?\n",
        "\n",
        "from flask import Flask, jsonify\n",
        "\n",
        "app = Flask(__name__)\n",
        "\n",
        "@app.route('/data')\n",
        "def data():\n",
        "    return jsonify({\"name\": \"Flask\", \"type\": \"Web Framework\"})\n",
        "\n",
        "if __name__ == '__main__':\n",
        "    app.run(debug=True)\n"
      ],
      "metadata": {
        "id": "w1J0N1TiuxR5"
      },
      "execution_count": null,
      "outputs": []
    },
    {
      "cell_type": "code",
      "source": [
        "# Q15 - How do you capture URL parameters in Flask?\n",
        "\n",
        "from flask import Flask\n",
        "\n",
        "app = Flask(__name__)\n",
        "\n",
        "@app.route('/user/<username>')\n",
        "def show_user(username):\n",
        "    return f'Hello, {username}!'\n",
        "\n",
        "if __name__ == '__main__':\n",
        "    app.run(debug=True)\n"
      ],
      "metadata": {
        "id": "UqhF8y6ouxU1"
      },
      "execution_count": null,
      "outputs": []
    }
  ]
}